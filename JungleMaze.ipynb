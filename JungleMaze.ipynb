{
 "cells": [
  {
   "cell_type": "markdown",
   "metadata": {},
   "source": [
    "# Connor Hehn\n",
    "## Homework 1"
   ]
  },
  {
   "cell_type": "code",
   "execution_count": 2,
   "metadata": {},
   "outputs": [],
   "source": [
    "import seaborn as sns\n",
    "import matplotlib.pyplot as plt\n",
    "jungle = [\n",
    "    [1,1,1,0],\n",
    "    [0,0,1,1],\n",
    "    [0,1,1,0],\n",
    "    [1,1,0,1],\n",
    "    [1,1,1,1]\n",
    "]"
   ]
  },
  {
   "cell_type": "markdown",
   "metadata": {},
   "source": [
    "#### Valid Move Function"
   ]
  },
  {
   "cell_type": "code",
   "execution_count": 3,
   "metadata": {},
   "outputs": [],
   "source": [
    "def is_valid_move(jungle,row,col):\n",
    "    # Check if in bounds\n",
    "    in_bounds = (0 <= row < len(jungle)) and (0 <= col < len(jungle[0]))\n",
    "    if in_bounds:\n",
    "        is_open = (jungle[row][col] == 1)\n",
    "    else:\n",
    "        is_open = False\n",
    "    return (in_bounds and is_open)"
   ]
  },
  {
   "cell_type": "markdown",
   "metadata": {},
   "source": [
    "#### Path finder function (recursion)"
   ]
  },
  {
   "cell_type": "code",
   "execution_count": 4,
   "metadata": {},
   "outputs": [],
   "source": [
    "def find_solution(jungle,row,col,solution):\n",
    "    \n",
    "    # Check if solution is complete\n",
    "    if ((row == len(jungle) -1) and (col == len(jungle[0]) - 1)):\n",
    "        solution[row][col] = 1\n",
    "        return True\n",
    "    \n",
    "    # Check valid move\n",
    "    if is_valid_move(jungle,row,col):\n",
    "        # If the move is valid -> set solution marker to 1\n",
    "        solution[row][col] = 1\n",
    "\n",
    "        # Attempt to move down \n",
    "        if find_solution(jungle,row+1,col,solution):\n",
    "            return True\n",
    "        \n",
    "        # Attmept to move right\n",
    "        if find_solution(jungle,row,col+1,solution):\n",
    "            return True\n",
    "        \n",
    "        if find_solution(jungle,row-1,col,solution):\n",
    "            return True\n",
    "        \n",
    "        if find_solution(jungle,row,col-1,solution):\n",
    "            return True\n",
    "        \n",
    "        # If no solution found\n",
    "        solution[row][col] = 0\n",
    "    \n",
    "    return False\n"
   ]
  },
  {
   "cell_type": "markdown",
   "metadata": {},
   "source": [
    "#### Solve Function"
   ]
  },
  {
   "cell_type": "code",
   "execution_count": 5,
   "metadata": {},
   "outputs": [],
   "source": [
    "def solve(jungle):\n",
    "    \n",
    "    # Find size of jungle\n",
    "    num_rows = len(jungle)\n",
    "    num_cols = len(jungle[0])\n",
    "\n",
    "    # Set solution matrix\n",
    "    solution =[[0] * num_cols for _ in range(num_rows)] \n",
    "\n",
    "    if find_solution(jungle,0,0,solution):\n",
    "        return solution\n",
    "    else:\n",
    "        return None\n"
   ]
  },
  {
   "cell_type": "markdown",
   "metadata": {},
   "source": [
    "#### Plot function"
   ]
  },
  {
   "cell_type": "code",
   "execution_count": 6,
   "metadata": {},
   "outputs": [],
   "source": [
    "def plot(grid):    \n",
    "    plt.close('all')\n",
    "    sns.set(font_scale = 2)\n",
    "    plt.figure(figsize=(10,10))\n",
    "    sns.heatmap(grid,linewidths=.8,cbar=False,linecolor='blue', xticklabels=False,yticklabels=False,\n",
    "                cmap='Reds',center=0.4)\n",
    "    plt.title(\"Jungle Solution\")"
   ]
  },
  {
   "cell_type": "markdown",
   "metadata": {},
   "source": [
    "#### Main"
   ]
  },
  {
   "cell_type": "code",
   "execution_count": 7,
   "metadata": {},
   "outputs": [
    {
     "ename": "RecursionError",
     "evalue": "maximum recursion depth exceeded in comparison",
     "output_type": "error",
     "traceback": [
      "\u001b[0;31m---------------------------------------------------------------------------\u001b[0m",
      "\u001b[0;31mRecursionError\u001b[0m                            Traceback (most recent call last)",
      "\u001b[1;32m/Users/connorhehn/Downloads/JungleMaze.ipynb Cell 12\u001b[0m line \u001b[0;36m4\n\u001b[1;32m      <a href='vscode-notebook-cell:/Users/connorhehn/Downloads/JungleMaze.ipynb#X14sZmlsZQ%3D%3D?line=0'>1</a>\u001b[0m \u001b[39mif\u001b[39;00m \u001b[39m__name__\u001b[39m \u001b[39m==\u001b[39m \u001b[39m\"\u001b[39m\u001b[39m__main__\u001b[39m\u001b[39m\"\u001b[39m:\n\u001b[1;32m      <a href='vscode-notebook-cell:/Users/connorhehn/Downloads/JungleMaze.ipynb#X14sZmlsZQ%3D%3D?line=1'>2</a>\u001b[0m \n\u001b[1;32m      <a href='vscode-notebook-cell:/Users/connorhehn/Downloads/JungleMaze.ipynb#X14sZmlsZQ%3D%3D?line=2'>3</a>\u001b[0m     \u001b[39m# Solve solution\u001b[39;00m\n\u001b[0;32m----> <a href='vscode-notebook-cell:/Users/connorhehn/Downloads/JungleMaze.ipynb#X14sZmlsZQ%3D%3D?line=3'>4</a>\u001b[0m     solution \u001b[39m=\u001b[39m solve(jungle)\n\u001b[1;32m      <a href='vscode-notebook-cell:/Users/connorhehn/Downloads/JungleMaze.ipynb#X14sZmlsZQ%3D%3D?line=5'>6</a>\u001b[0m     \u001b[39mif\u001b[39;00m (solution \u001b[39m!=\u001b[39m \u001b[39mNone\u001b[39;00m):\n\u001b[1;32m      <a href='vscode-notebook-cell:/Users/connorhehn/Downloads/JungleMaze.ipynb#X14sZmlsZQ%3D%3D?line=6'>7</a>\u001b[0m         plot(solution)\n",
      "\u001b[1;32m/Users/connorhehn/Downloads/JungleMaze.ipynb Cell 12\u001b[0m line \u001b[0;36m1\n\u001b[1;32m      <a href='vscode-notebook-cell:/Users/connorhehn/Downloads/JungleMaze.ipynb#X14sZmlsZQ%3D%3D?line=6'>7</a>\u001b[0m \u001b[39m# Set solution matrix\u001b[39;00m\n\u001b[1;32m      <a href='vscode-notebook-cell:/Users/connorhehn/Downloads/JungleMaze.ipynb#X14sZmlsZQ%3D%3D?line=7'>8</a>\u001b[0m solution \u001b[39m=\u001b[39m[[\u001b[39m0\u001b[39m] \u001b[39m*\u001b[39m num_cols \u001b[39mfor\u001b[39;00m _ \u001b[39min\u001b[39;00m \u001b[39mrange\u001b[39m(num_rows)] \n\u001b[0;32m---> <a href='vscode-notebook-cell:/Users/connorhehn/Downloads/JungleMaze.ipynb#X14sZmlsZQ%3D%3D?line=9'>10</a>\u001b[0m \u001b[39mif\u001b[39;00m find_solution(jungle,\u001b[39m0\u001b[39;49m,\u001b[39m0\u001b[39;49m,solution):\n\u001b[1;32m     <a href='vscode-notebook-cell:/Users/connorhehn/Downloads/JungleMaze.ipynb#X14sZmlsZQ%3D%3D?line=10'>11</a>\u001b[0m     \u001b[39mreturn\u001b[39;00m solution\n\u001b[1;32m     <a href='vscode-notebook-cell:/Users/connorhehn/Downloads/JungleMaze.ipynb#X14sZmlsZQ%3D%3D?line=11'>12</a>\u001b[0m \u001b[39melse\u001b[39;00m:\n",
      "\u001b[1;32m/Users/connorhehn/Downloads/JungleMaze.ipynb Cell 12\u001b[0m line \u001b[0;36m1\n\u001b[1;32m     <a href='vscode-notebook-cell:/Users/connorhehn/Downloads/JungleMaze.ipynb#X14sZmlsZQ%3D%3D?line=14'>15</a>\u001b[0m     \u001b[39mreturn\u001b[39;00m \u001b[39mTrue\u001b[39;00m\n\u001b[1;32m     <a href='vscode-notebook-cell:/Users/connorhehn/Downloads/JungleMaze.ipynb#X14sZmlsZQ%3D%3D?line=16'>17</a>\u001b[0m \u001b[39m# Attmept to move right\u001b[39;00m\n\u001b[0;32m---> <a href='vscode-notebook-cell:/Users/connorhehn/Downloads/JungleMaze.ipynb#X14sZmlsZQ%3D%3D?line=17'>18</a>\u001b[0m \u001b[39mif\u001b[39;00m find_solution(jungle,row,col\u001b[39m+\u001b[39;49m\u001b[39m1\u001b[39;49m,solution):\n\u001b[1;32m     <a href='vscode-notebook-cell:/Users/connorhehn/Downloads/JungleMaze.ipynb#X14sZmlsZQ%3D%3D?line=18'>19</a>\u001b[0m     \u001b[39mreturn\u001b[39;00m \u001b[39mTrue\u001b[39;00m\n\u001b[1;32m     <a href='vscode-notebook-cell:/Users/connorhehn/Downloads/JungleMaze.ipynb#X14sZmlsZQ%3D%3D?line=20'>21</a>\u001b[0m \u001b[39mif\u001b[39;00m find_solution(jungle,row\u001b[39m-\u001b[39m\u001b[39m1\u001b[39m,col,solution):\n",
      "\u001b[1;32m/Users/connorhehn/Downloads/JungleMaze.ipynb Cell 12\u001b[0m line \u001b[0;36m1\n\u001b[1;32m     <a href='vscode-notebook-cell:/Users/connorhehn/Downloads/JungleMaze.ipynb#X14sZmlsZQ%3D%3D?line=14'>15</a>\u001b[0m     \u001b[39mreturn\u001b[39;00m \u001b[39mTrue\u001b[39;00m\n\u001b[1;32m     <a href='vscode-notebook-cell:/Users/connorhehn/Downloads/JungleMaze.ipynb#X14sZmlsZQ%3D%3D?line=16'>17</a>\u001b[0m \u001b[39m# Attmept to move right\u001b[39;00m\n\u001b[0;32m---> <a href='vscode-notebook-cell:/Users/connorhehn/Downloads/JungleMaze.ipynb#X14sZmlsZQ%3D%3D?line=17'>18</a>\u001b[0m \u001b[39mif\u001b[39;00m find_solution(jungle,row,col\u001b[39m+\u001b[39;49m\u001b[39m1\u001b[39;49m,solution):\n\u001b[1;32m     <a href='vscode-notebook-cell:/Users/connorhehn/Downloads/JungleMaze.ipynb#X14sZmlsZQ%3D%3D?line=18'>19</a>\u001b[0m     \u001b[39mreturn\u001b[39;00m \u001b[39mTrue\u001b[39;00m\n\u001b[1;32m     <a href='vscode-notebook-cell:/Users/connorhehn/Downloads/JungleMaze.ipynb#X14sZmlsZQ%3D%3D?line=20'>21</a>\u001b[0m \u001b[39mif\u001b[39;00m find_solution(jungle,row\u001b[39m-\u001b[39m\u001b[39m1\u001b[39m,col,solution):\n",
      "\u001b[1;32m/Users/connorhehn/Downloads/JungleMaze.ipynb Cell 12\u001b[0m line \u001b[0;36m1\n\u001b[1;32m     <a href='vscode-notebook-cell:/Users/connorhehn/Downloads/JungleMaze.ipynb#X14sZmlsZQ%3D%3D?line=10'>11</a>\u001b[0m solution[row][col] \u001b[39m=\u001b[39m \u001b[39m1\u001b[39m\n\u001b[1;32m     <a href='vscode-notebook-cell:/Users/connorhehn/Downloads/JungleMaze.ipynb#X14sZmlsZQ%3D%3D?line=12'>13</a>\u001b[0m \u001b[39m# Attempt to move down \u001b[39;00m\n\u001b[0;32m---> <a href='vscode-notebook-cell:/Users/connorhehn/Downloads/JungleMaze.ipynb#X14sZmlsZQ%3D%3D?line=13'>14</a>\u001b[0m \u001b[39mif\u001b[39;00m find_solution(jungle,row\u001b[39m+\u001b[39;49m\u001b[39m1\u001b[39;49m,col,solution):\n\u001b[1;32m     <a href='vscode-notebook-cell:/Users/connorhehn/Downloads/JungleMaze.ipynb#X14sZmlsZQ%3D%3D?line=14'>15</a>\u001b[0m     \u001b[39mreturn\u001b[39;00m \u001b[39mTrue\u001b[39;00m\n\u001b[1;32m     <a href='vscode-notebook-cell:/Users/connorhehn/Downloads/JungleMaze.ipynb#X14sZmlsZQ%3D%3D?line=16'>17</a>\u001b[0m \u001b[39m# Attmept to move right\u001b[39;00m\n",
      "\u001b[1;32m/Users/connorhehn/Downloads/JungleMaze.ipynb Cell 12\u001b[0m line \u001b[0;36m1\n\u001b[1;32m     <a href='vscode-notebook-cell:/Users/connorhehn/Downloads/JungleMaze.ipynb#X14sZmlsZQ%3D%3D?line=10'>11</a>\u001b[0m solution[row][col] \u001b[39m=\u001b[39m \u001b[39m1\u001b[39m\n\u001b[1;32m     <a href='vscode-notebook-cell:/Users/connorhehn/Downloads/JungleMaze.ipynb#X14sZmlsZQ%3D%3D?line=12'>13</a>\u001b[0m \u001b[39m# Attempt to move down \u001b[39;00m\n\u001b[0;32m---> <a href='vscode-notebook-cell:/Users/connorhehn/Downloads/JungleMaze.ipynb#X14sZmlsZQ%3D%3D?line=13'>14</a>\u001b[0m \u001b[39mif\u001b[39;00m find_solution(jungle,row\u001b[39m+\u001b[39;49m\u001b[39m1\u001b[39;49m,col,solution):\n\u001b[1;32m     <a href='vscode-notebook-cell:/Users/connorhehn/Downloads/JungleMaze.ipynb#X14sZmlsZQ%3D%3D?line=14'>15</a>\u001b[0m     \u001b[39mreturn\u001b[39;00m \u001b[39mTrue\u001b[39;00m\n\u001b[1;32m     <a href='vscode-notebook-cell:/Users/connorhehn/Downloads/JungleMaze.ipynb#X14sZmlsZQ%3D%3D?line=16'>17</a>\u001b[0m \u001b[39m# Attmept to move right\u001b[39;00m\n",
      "\u001b[1;32m/Users/connorhehn/Downloads/JungleMaze.ipynb Cell 12\u001b[0m line \u001b[0;36m2\n\u001b[1;32m     <a href='vscode-notebook-cell:/Users/connorhehn/Downloads/JungleMaze.ipynb#X14sZmlsZQ%3D%3D?line=17'>18</a>\u001b[0m \u001b[39mif\u001b[39;00m find_solution(jungle,row,col\u001b[39m+\u001b[39m\u001b[39m1\u001b[39m,solution):\n\u001b[1;32m     <a href='vscode-notebook-cell:/Users/connorhehn/Downloads/JungleMaze.ipynb#X14sZmlsZQ%3D%3D?line=18'>19</a>\u001b[0m     \u001b[39mreturn\u001b[39;00m \u001b[39mTrue\u001b[39;00m\n\u001b[0;32m---> <a href='vscode-notebook-cell:/Users/connorhehn/Downloads/JungleMaze.ipynb#X14sZmlsZQ%3D%3D?line=20'>21</a>\u001b[0m \u001b[39mif\u001b[39;00m find_solution(jungle,row\u001b[39m-\u001b[39;49m\u001b[39m1\u001b[39;49m,col,solution):\n\u001b[1;32m     <a href='vscode-notebook-cell:/Users/connorhehn/Downloads/JungleMaze.ipynb#X14sZmlsZQ%3D%3D?line=21'>22</a>\u001b[0m     \u001b[39mreturn\u001b[39;00m \u001b[39mTrue\u001b[39;00m\n\u001b[1;32m     <a href='vscode-notebook-cell:/Users/connorhehn/Downloads/JungleMaze.ipynb#X14sZmlsZQ%3D%3D?line=23'>24</a>\u001b[0m \u001b[39mif\u001b[39;00m find_solution(jungle,row,col\u001b[39m-\u001b[39m\u001b[39m1\u001b[39m,solution):\n",
      "    \u001b[0;31m[... skipping similar frames: find_solution at line 14 (1 times)]\u001b[0m\n",
      "\u001b[1;32m/Users/connorhehn/Downloads/JungleMaze.ipynb Cell 12\u001b[0m line \u001b[0;36m2\n\u001b[1;32m     <a href='vscode-notebook-cell:/Users/connorhehn/Downloads/JungleMaze.ipynb#X14sZmlsZQ%3D%3D?line=17'>18</a>\u001b[0m \u001b[39mif\u001b[39;00m find_solution(jungle,row,col\u001b[39m+\u001b[39m\u001b[39m1\u001b[39m,solution):\n\u001b[1;32m     <a href='vscode-notebook-cell:/Users/connorhehn/Downloads/JungleMaze.ipynb#X14sZmlsZQ%3D%3D?line=18'>19</a>\u001b[0m     \u001b[39mreturn\u001b[39;00m \u001b[39mTrue\u001b[39;00m\n\u001b[0;32m---> <a href='vscode-notebook-cell:/Users/connorhehn/Downloads/JungleMaze.ipynb#X14sZmlsZQ%3D%3D?line=20'>21</a>\u001b[0m \u001b[39mif\u001b[39;00m find_solution(jungle,row\u001b[39m-\u001b[39;49m\u001b[39m1\u001b[39;49m,col,solution):\n\u001b[1;32m     <a href='vscode-notebook-cell:/Users/connorhehn/Downloads/JungleMaze.ipynb#X14sZmlsZQ%3D%3D?line=21'>22</a>\u001b[0m     \u001b[39mreturn\u001b[39;00m \u001b[39mTrue\u001b[39;00m\n\u001b[1;32m     <a href='vscode-notebook-cell:/Users/connorhehn/Downloads/JungleMaze.ipynb#X14sZmlsZQ%3D%3D?line=23'>24</a>\u001b[0m \u001b[39mif\u001b[39;00m find_solution(jungle,row,col\u001b[39m-\u001b[39m\u001b[39m1\u001b[39m,solution):\n",
      "    \u001b[0;31m[... skipping similar frames: find_solution at line 14 (1481 times), find_solution at line 21 (1480 times)]\u001b[0m\n",
      "\u001b[1;32m/Users/connorhehn/Downloads/JungleMaze.ipynb Cell 12\u001b[0m line \u001b[0;36m2\n\u001b[1;32m     <a href='vscode-notebook-cell:/Users/connorhehn/Downloads/JungleMaze.ipynb#X14sZmlsZQ%3D%3D?line=17'>18</a>\u001b[0m \u001b[39mif\u001b[39;00m find_solution(jungle,row,col\u001b[39m+\u001b[39m\u001b[39m1\u001b[39m,solution):\n\u001b[1;32m     <a href='vscode-notebook-cell:/Users/connorhehn/Downloads/JungleMaze.ipynb#X14sZmlsZQ%3D%3D?line=18'>19</a>\u001b[0m     \u001b[39mreturn\u001b[39;00m \u001b[39mTrue\u001b[39;00m\n\u001b[0;32m---> <a href='vscode-notebook-cell:/Users/connorhehn/Downloads/JungleMaze.ipynb#X14sZmlsZQ%3D%3D?line=20'>21</a>\u001b[0m \u001b[39mif\u001b[39;00m find_solution(jungle,row\u001b[39m-\u001b[39;49m\u001b[39m1\u001b[39;49m,col,solution):\n\u001b[1;32m     <a href='vscode-notebook-cell:/Users/connorhehn/Downloads/JungleMaze.ipynb#X14sZmlsZQ%3D%3D?line=21'>22</a>\u001b[0m     \u001b[39mreturn\u001b[39;00m \u001b[39mTrue\u001b[39;00m\n\u001b[1;32m     <a href='vscode-notebook-cell:/Users/connorhehn/Downloads/JungleMaze.ipynb#X14sZmlsZQ%3D%3D?line=23'>24</a>\u001b[0m \u001b[39mif\u001b[39;00m find_solution(jungle,row,col\u001b[39m-\u001b[39m\u001b[39m1\u001b[39m,solution):\n",
      "\u001b[1;32m/Users/connorhehn/Downloads/JungleMaze.ipynb Cell 12\u001b[0m line \u001b[0;36m1\n\u001b[1;32m     <a href='vscode-notebook-cell:/Users/connorhehn/Downloads/JungleMaze.ipynb#X14sZmlsZQ%3D%3D?line=10'>11</a>\u001b[0m solution[row][col] \u001b[39m=\u001b[39m \u001b[39m1\u001b[39m\n\u001b[1;32m     <a href='vscode-notebook-cell:/Users/connorhehn/Downloads/JungleMaze.ipynb#X14sZmlsZQ%3D%3D?line=12'>13</a>\u001b[0m \u001b[39m# Attempt to move down \u001b[39;00m\n\u001b[0;32m---> <a href='vscode-notebook-cell:/Users/connorhehn/Downloads/JungleMaze.ipynb#X14sZmlsZQ%3D%3D?line=13'>14</a>\u001b[0m \u001b[39mif\u001b[39;00m find_solution(jungle,row\u001b[39m+\u001b[39;49m\u001b[39m1\u001b[39;49m,col,solution):\n\u001b[1;32m     <a href='vscode-notebook-cell:/Users/connorhehn/Downloads/JungleMaze.ipynb#X14sZmlsZQ%3D%3D?line=14'>15</a>\u001b[0m     \u001b[39mreturn\u001b[39;00m \u001b[39mTrue\u001b[39;00m\n\u001b[1;32m     <a href='vscode-notebook-cell:/Users/connorhehn/Downloads/JungleMaze.ipynb#X14sZmlsZQ%3D%3D?line=16'>17</a>\u001b[0m \u001b[39m# Attmept to move right\u001b[39;00m\n",
      "\u001b[1;32m/Users/connorhehn/Downloads/JungleMaze.ipynb Cell 12\u001b[0m line \u001b[0;36m9\n\u001b[1;32m      <a href='vscode-notebook-cell:/Users/connorhehn/Downloads/JungleMaze.ipynb#X14sZmlsZQ%3D%3D?line=5'>6</a>\u001b[0m     \u001b[39mreturn\u001b[39;00m \u001b[39mTrue\u001b[39;00m\n\u001b[1;32m      <a href='vscode-notebook-cell:/Users/connorhehn/Downloads/JungleMaze.ipynb#X14sZmlsZQ%3D%3D?line=7'>8</a>\u001b[0m \u001b[39m# Check valid move\u001b[39;00m\n\u001b[0;32m----> <a href='vscode-notebook-cell:/Users/connorhehn/Downloads/JungleMaze.ipynb#X14sZmlsZQ%3D%3D?line=8'>9</a>\u001b[0m \u001b[39mif\u001b[39;00m is_valid_move(jungle,row,col):\n\u001b[1;32m     <a href='vscode-notebook-cell:/Users/connorhehn/Downloads/JungleMaze.ipynb#X14sZmlsZQ%3D%3D?line=9'>10</a>\u001b[0m     \u001b[39m# If the move is valid -> set solution marker to 1\u001b[39;00m\n\u001b[1;32m     <a href='vscode-notebook-cell:/Users/connorhehn/Downloads/JungleMaze.ipynb#X14sZmlsZQ%3D%3D?line=10'>11</a>\u001b[0m     solution[row][col] \u001b[39m=\u001b[39m \u001b[39m1\u001b[39m\n\u001b[1;32m     <a href='vscode-notebook-cell:/Users/connorhehn/Downloads/JungleMaze.ipynb#X14sZmlsZQ%3D%3D?line=12'>13</a>\u001b[0m     \u001b[39m# Attempt to move down \u001b[39;00m\n",
      "\u001b[1;32m/Users/connorhehn/Downloads/JungleMaze.ipynb Cell 12\u001b[0m line \u001b[0;36m3\n\u001b[1;32m      <a href='vscode-notebook-cell:/Users/connorhehn/Downloads/JungleMaze.ipynb#X14sZmlsZQ%3D%3D?line=0'>1</a>\u001b[0m \u001b[39mdef\u001b[39;00m \u001b[39mis_valid_move\u001b[39m(jungle,row,col):\n\u001b[1;32m      <a href='vscode-notebook-cell:/Users/connorhehn/Downloads/JungleMaze.ipynb#X14sZmlsZQ%3D%3D?line=1'>2</a>\u001b[0m     \u001b[39m# Check if in bounds\u001b[39;00m\n\u001b[0;32m----> <a href='vscode-notebook-cell:/Users/connorhehn/Downloads/JungleMaze.ipynb#X14sZmlsZQ%3D%3D?line=2'>3</a>\u001b[0m     in_bounds \u001b[39m=\u001b[39m (\u001b[39m0\u001b[39m \u001b[39m<\u001b[39m\u001b[39m=\u001b[39m row \u001b[39m<\u001b[39m \u001b[39mlen\u001b[39m(jungle)) \u001b[39mand\u001b[39;00m (\u001b[39m0\u001b[39m \u001b[39m<\u001b[39m\u001b[39m=\u001b[39m col \u001b[39m<\u001b[39m \u001b[39mlen\u001b[39m(jungle[\u001b[39m0\u001b[39m]))\n\u001b[1;32m      <a href='vscode-notebook-cell:/Users/connorhehn/Downloads/JungleMaze.ipynb#X14sZmlsZQ%3D%3D?line=3'>4</a>\u001b[0m     \u001b[39mif\u001b[39;00m in_bounds:\n\u001b[1;32m      <a href='vscode-notebook-cell:/Users/connorhehn/Downloads/JungleMaze.ipynb#X14sZmlsZQ%3D%3D?line=4'>5</a>\u001b[0m         is_open \u001b[39m=\u001b[39m (jungle[row][col] \u001b[39m==\u001b[39m \u001b[39m1\u001b[39m)\n",
      "\u001b[0;31mRecursionError\u001b[0m: maximum recursion depth exceeded in comparison"
     ]
    }
   ],
   "source": [
    "if __name__ == \"__main__\":\n",
    "\n",
    "    # Solve solution\n",
    "    solution = solve(jungle)\n",
    "\n",
    "    if (solution != None):\n",
    "        plot(solution)\n",
    "    else:\n",
    "        print(\"You are trapped in the maze!\")"
   ]
  }
 ],
 "metadata": {
  "kernelspec": {
   "display_name": "base",
   "language": "python",
   "name": "python3"
  },
  "language_info": {
   "codemirror_mode": {
    "name": "ipython",
    "version": 3
   },
   "file_extension": ".py",
   "mimetype": "text/x-python",
   "name": "python",
   "nbconvert_exporter": "python",
   "pygments_lexer": "ipython3",
   "version": "3.10.12"
  },
  "orig_nbformat": 4
 },
 "nbformat": 4,
 "nbformat_minor": 2
}
