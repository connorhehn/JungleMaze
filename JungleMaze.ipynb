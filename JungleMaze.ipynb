{
 "cells": [
  {
   "cell_type": "markdown",
   "metadata": {},
   "source": [
    "# Connor Hehn\n",
    "## Homework 1"
   ]
  },
  {
   "cell_type": "code",
   "execution_count": 1,
   "metadata": {},
   "outputs": [],
   "source": [
    "jungle = [\n",
    "    [1,0,0,0],\n",
    "    [1,1,0,1],\n",
    "    [0,1,0,0],\n",
    "    [1,1,1,1]\n",
    "]"
   ]
  },
  {
   "cell_type": "markdown",
   "metadata": {},
   "source": [
    "#### Valid Move Function"
   ]
  },
  {
   "cell_type": "code",
   "execution_count": 2,
   "metadata": {},
   "outputs": [],
   "source": [
    "def is_valid_move(jungle,row,col):\n",
    "    # Check if in bounds\n",
    "    in_bounds = (0 <= row < len(jungle)) and (0 <= col < len(jungle[0]))\n",
    "    if in_bounds:\n",
    "        is_open = (jungle[row][col] == 1)\n",
    "    else:\n",
    "        is_open = False\n",
    "    return (in_bounds and is_open)"
   ]
  },
  {
   "cell_type": "markdown",
   "metadata": {},
   "source": [
    "#### Path finder function (recursion)"
   ]
  },
  {
   "cell_type": "code",
   "execution_count": 3,
   "metadata": {},
   "outputs": [],
   "source": [
    "def find_solution(jungle,row,col,solution):\n",
    "    \n",
    "    # Check if solution is complete\n",
    "    if ((row == len(jungle) -1) and (col == len(jungle[0]) - 1)):\n",
    "        solution[row][col] = 1\n",
    "        return True\n",
    "    \n",
    "    # Check valid move\n",
    "    if is_valid_move(jungle,row,col):\n",
    "        # If the move is valid -> set solution marker to 1\n",
    "        solution[row][col] = 1\n",
    "\n",
    "        # Attempt to move down \n",
    "        if find_solution(jungle,row+1,col,solution):\n",
    "            return True\n",
    "        \n",
    "        # Attmept to move right\n",
    "        if find_solution(jungle,row,col+1,solution):\n",
    "            return True\n",
    "        \n",
    "        # If no solution found\n",
    "        solution[row][col] = 0\n",
    "    \n",
    "    return False\n"
   ]
  },
  {
   "cell_type": "markdown",
   "metadata": {},
   "source": [
    "#### Solve Function"
   ]
  },
  {
   "cell_type": "code",
   "execution_count": 4,
   "metadata": {},
   "outputs": [],
   "source": [
    "def solve(jungle):\n",
    "    \n",
    "    # Find size of jungle\n",
    "    num_rows = len(jungle)\n",
    "    num_cols = len(jungle[0])\n",
    "\n",
    "    # Set solution matrix\n",
    "    solution =[[0] * num_cols for _ in range(num_rows)] \n",
    "\n",
    "    if find_solution(jungle,0,0,solution):\n",
    "        return solution\n",
    "    else:\n",
    "        return None\n"
   ]
  },
  {
   "cell_type": "markdown",
   "metadata": {},
   "source": [
    "#### Plot function"
   ]
  },
  {
   "cell_type": "code",
   "execution_count": 5,
   "metadata": {},
   "outputs": [],
   "source": [
    "def plot(grid):\n",
    "    import seaborn as sns\n",
    "    import matplotlib.pyplot as plt\n",
    "    \n",
    "    plt.close('all')\n",
    "    sns.set(font_scale = 2)\n",
    "    plt.figure(figsize=(10,10))\n",
    "    sns.heatmap(grid,linewidths=.8,cbar=False,linecolor='blue', xticklabels=False,yticklabels=False,\n",
    "                cmap='Reds',center=0.4)\n",
    "    plt.title(\"Jungle Solution\")"
   ]
  },
  {
   "cell_type": "markdown",
   "metadata": {},
   "source": [
    "#### Main"
   ]
  },
  {
   "cell_type": "code",
   "execution_count": 6,
   "metadata": {},
   "outputs": [
    {
     "data": {
      "image/png": "[encoded data removed]",
      "text/plain": [
       "<Figure size 1000x1000 with 1 Axes>"
      ]
     },
     "metadata": {},
     "output_type": "display_data"
    }
   ],
   "source": [
    "if __name__ == \"__main__\":\n",
    "\n",
    "    # Solve solution\n",
    "    solution = solve(jungle)\n",
    "\n",
    "    if (solution != None):\n",
    "        plot(solution)\n",
    "    else:\n",
    "        print(\"You are trapped in the maze!\")"
   ]
  }
 ],
 "metadata": {
  "kernelspec": {
   "display_name": "base",
   "language": "python",
   "name": "python3"
  },
  "language_info": {
   "codemirror_mode": {
    "name": "ipython",
    "version": 3
   },
   "file_extension": ".py",
   "mimetype": "text/x-python",
   "name": "python",
   "nbconvert_exporter": "python",
   "pygments_lexer": "ipython3",
   "version": "3.11.4"
  },
  "orig_nbformat": 4
 },
 "nbformat": 4,
 "nbformat_minor": 2
}
